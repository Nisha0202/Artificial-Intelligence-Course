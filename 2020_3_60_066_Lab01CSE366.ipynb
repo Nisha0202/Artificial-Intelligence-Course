{
  "nbformat": 4,
  "nbformat_minor": 0,
  "metadata": {
    "colab": {
      "provenance": [],
      "authorship_tag": "ABX9TyONftE4jsGDQbFIBT7cRzUg",
      "include_colab_link": true
    },
    "kernelspec": {
      "name": "python3",
      "display_name": "Python 3"
    },
    "language_info": {
      "name": "python"
    }
  },
  "cells": [
    {
      "cell_type": "markdown",
      "metadata": {
        "id": "view-in-github",
        "colab_type": "text"
      },
      "source": [
        "<a href=\"https://colab.research.google.com/github/Nisha0202/Artificial-Intelligence-Course/blob/main/2020_3_60_066_Lab01CSE366.ipynb\" target=\"_parent\"><img src=\"https://colab.research.google.com/assets/colab-badge.svg\" alt=\"Open In Colab\"/></a>"
      ]
    },
    {
      "cell_type": "markdown",
      "source": [
        "Select Viva Students\n",
        "1. Read the student IDs from a text file (e.g., student_ids.txt) containing\n",
        "multiple student IDs, one per line, in the format YYYY-N-MM-xxx (e.g., 2024-1-05-\n",
        "123)."
      ],
      "metadata": {
        "id": "pVwp_DwxdBjI"
      }
    },
    {
      "cell_type": "code",
      "source": [
        "def read_student_ids(filename):\n",
        "    try:\n",
        "        with open(filename, 'r') as file:\n",
        "            student_ids = file.readlines()\n",
        "            # Strip any extra whitespace\n",
        "            return [student_id.strip() for student_id in student_ids]\n",
        "    except FileNotFoundError:\n",
        "        print(f\"Error: The file '{filename}' was not found.\")\n",
        "        return []\n",
        "\n",
        "# Printing file\n",
        "filename = \"student_ids.txt\"\n",
        "student_ids = read_student_ids(filename)\n",
        "\n",
        "if student_ids:\n",
        "    print(\"Student IDs from the file:\")\n",
        "    for student_id in student_ids:\n",
        "        print(student_id)\n"
      ],
      "metadata": {
        "colab": {
          "base_uri": "https://localhost:8080/"
        },
        "id": "v_XeZAO3dXmA",
        "outputId": "deed3c6a-233e-4bf1-cd30-2de0a5d350e4"
      },
      "execution_count": 43,
      "outputs": [
        {
          "output_type": "stream",
          "name": "stdout",
          "text": [
            "Student IDs from the file:\n",
            "2024-1-05-123\n",
            "2024-1-05-124\n",
            "2024-1-05-125\n",
            "2024-1-05-126\n"
          ]
        }
      ]
    },
    {
      "cell_type": "markdown",
      "source": [
        "2. Maintain a list of students who have not been selected yet.\n"
      ],
      "metadata": {
        "id": "96RCds1Td6BU"
      }
    },
    {
      "cell_type": "code",
      "source": [
        "unselected_students = student_ids[:]\n",
        "print(\"Students who have not been selected yet:\")\n",
        "for student_id in unselected_students:\n",
        "        print(student_id)"
      ],
      "metadata": {
        "colab": {
          "base_uri": "https://localhost:8080/"
        },
        "id": "CzUuC9dGeHWJ",
        "outputId": "3d5c3be1-b204-4c28-fa36-e4fd827900fb"
      },
      "execution_count": 44,
      "outputs": [
        {
          "output_type": "stream",
          "name": "stdout",
          "text": [
            "Students who have not been selected yet:\n",
            "2024-1-05-123\n",
            "2024-1-05-124\n",
            "2024-1-05-125\n",
            "2024-1-05-126\n"
          ]
        }
      ]
    },
    {
      "cell_type": "markdown",
      "source": [
        "3. Randomly select a student for viva from the list.\n"
      ],
      "metadata": {
        "id": "iE07dQsMeIA4"
      }
    },
    {
      "cell_type": "code",
      "source": [
        "import random\n",
        "viva_counter = 0\n",
        "selected_student = \"\"\n",
        "def select_viva_students(student_ids):\n",
        "    global viva_counter\n",
        "    global selected_student\n",
        "    if not student_ids:\n",
        "        print(\"Error: No student IDs available to select.\")\n",
        "        return\n",
        "\n",
        "\n",
        "    # Randomly select a student\n",
        "    selected_student = random.choice(unselected_students)\n",
        "    viva_counter += 1\n",
        "\n",
        "    # Print the selected student's ID and viva number\n",
        "    print(f\"Selected Student: Viva #{viva_counter}: {selected_student}\")\n",
        "    return selected_student\n",
        "\n",
        "\n",
        "\n",
        "if student_id in unselected_students:\n",
        "    select_viva_students(student_ids)\n"
      ],
      "metadata": {
        "colab": {
          "base_uri": "https://localhost:8080/"
        },
        "id": "Pqujbd3peO_O",
        "outputId": "7dce355d-b65b-419c-ef53-b6c4c4ca0bf1"
      },
      "execution_count": 45,
      "outputs": [
        {
          "output_type": "stream",
          "name": "stdout",
          "text": [
            "Selected Student: Viva #1: 2024-1-05-125\n"
          ]
        }
      ]
    },
    {
      "cell_type": "markdown",
      "source": [
        "4. Remove the selected student from the list."
      ],
      "metadata": {
        "id": "gDXsklcoePVk"
      }
    },
    {
      "cell_type": "code",
      "source": [
        "# Remove the selected student from the unselected list\n",
        "unselected_students.remove(selected_student)\n",
        "print(\"After removing selected student remaining students who have not been selected yet:\")\n",
        "for student_id in unselected_students:\n",
        "        print(student_id)\n",
        "\n",
        "\n"
      ],
      "metadata": {
        "id": "1JOtBRlpeUI-",
        "colab": {
          "base_uri": "https://localhost:8080/"
        },
        "outputId": "b1dc09cf-5a16-461e-80ba-85fbc43ab246"
      },
      "execution_count": 46,
      "outputs": [
        {
          "output_type": "stream",
          "name": "stdout",
          "text": [
            "After removing selected student remaining students who have not been selected yet:\n",
            "2024-1-05-123\n",
            "2024-1-05-124\n",
            "2024-1-05-126\n"
          ]
        }
      ]
    },
    {
      "cell_type": "markdown",
      "source": [
        "5. Repeat steps 3 and 4 until all students have been picked."
      ],
      "metadata": {
        "id": "A0VFQpYueUhn"
      }
    },
    {
      "cell_type": "code",
      "source": [
        "# Loop until all students are selected\n",
        "while unselected_students:\n",
        "    selected_student = select_viva_students(unselected_students)\n",
        "\n",
        "    if selected_student:\n",
        "        # Remove the selected student from the unselected_students list\n",
        "        unselected_students.remove(selected_student)\n",
        "        print(f\"Viva #{viva_counter} complete: {selected_student} selected and removed.\")\n",
        "    else:\n",
        "        print(\"No more students to select.\")"
      ],
      "metadata": {
        "id": "zWuQf_j0eXc2",
        "colab": {
          "base_uri": "https://localhost:8080/"
        },
        "outputId": "6782ae53-239e-41ba-ff9e-744e62039c48"
      },
      "execution_count": 47,
      "outputs": [
        {
          "output_type": "stream",
          "name": "stdout",
          "text": [
            "Selected Student: Viva #2: 2024-1-05-126\n",
            "Viva #2 complete: 2024-1-05-126 selected and removed.\n",
            "Selected Student: Viva #3: 2024-1-05-124\n",
            "Viva #3 complete: 2024-1-05-124 selected and removed.\n",
            "Selected Student: Viva #4: 2024-1-05-123\n",
            "Viva #4 complete: 2024-1-05-123 selected and removed.\n"
          ]
        }
      ]
    },
    {
      "cell_type": "markdown",
      "source": [
        "6. When all students have been selected, reset the list to include all students\n",
        "again."
      ],
      "metadata": {
        "id": "7kGuMJsDeX3M"
      }
    },
    {
      "cell_type": "code",
      "source": [
        "unselected_students = student_ids[:]\n",
        "print(\"Reset Student list:\")\n",
        "for student_id in unselected_students:\n",
        "        print(student_id)"
      ],
      "metadata": {
        "id": "9EAgRkOmeZtQ",
        "colab": {
          "base_uri": "https://localhost:8080/"
        },
        "outputId": "f8071b2a-4a20-4806-f0f6-ab8f54f9cf8e"
      },
      "execution_count": 42,
      "outputs": [
        {
          "output_type": "stream",
          "name": "stdout",
          "text": [
            "Reset Student list:\n",
            "2024-1-05-123\n",
            "2024-1-05-124\n",
            "2024-1-05-125\n",
            "2024-1-05-126\n"
          ]
        }
      ]
    }
  ]
}