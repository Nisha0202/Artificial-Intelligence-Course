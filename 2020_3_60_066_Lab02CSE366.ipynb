{
  "nbformat": 4,
  "nbformat_minor": 0,
  "metadata": {
    "colab": {
      "provenance": [],
      "authorship_tag": "ABX9TyMywFmvaSOyPmSPEEbQDM9O",
      "include_colab_link": true
    },
    "kernelspec": {
      "name": "python3",
      "display_name": "Python 3"
    },
    "language_info": {
      "name": "python"
    }
  },
  "cells": [
    {
      "cell_type": "markdown",
      "metadata": {
        "id": "view-in-github",
        "colab_type": "text"
      },
      "source": [
        "<a href=\"https://colab.research.google.com/github/Nisha0202/Artificial-Intelligence-Course/blob/main/2020_3_60_066_Lab02CSE366.ipynb\" target=\"_parent\"><img src=\"https://colab.research.google.com/assets/colab-badge.svg\" alt=\"Open In Colab\"/></a>"
      ]
    },
    {
      "cell_type": "markdown",
      "source": [
        "### Lab Task: Trading Agent for Smartphone Inventory Management  \n",
        "\n",
        "**Goal:** Optimize stock levels and minimize costs.  \n",
        "\n",
        "**Inputs:**  \n",
        "1. **Price**: Smartphone price.  \n",
        "2. **Stock**: Quantity in inventory.  \n",
        "\n",
        "**Rules:**  \n",
        "1. Order if **price drops ≥ 20%** or **stock < 10 units** or **both**\n",
        "  - If **price < threshold** and **stock < 10**, order a specific quantity (e.g., 15 + 10 units).  \n",
        "   - If **price < threshold** and **stock > 10**, order a specific quantity (e.g., 15 units).  \n",
        "   - If **stock < 10**, order a minimum (e.g., 10 units).  \n",
        "2. Otherwise, no order (tobuy = 0).  \n",
        "\n",
        "**Example:**  \n",
        "- Price drops to 500 BDT, stock = 20 → Order 15 units.  \n",
        "- Stock = 5 → Order 10 units.  \n",
        "- Neither → No order.  "
      ],
      "metadata": {
        "id": "vkySv1E-tk87"
      }
    },
    {
      "cell_type": "code",
      "execution_count": 3,
      "metadata": {
        "id": "G4nYKEtdziGh"
      },
      "outputs": [],
      "source": [
        "import random\n",
        "import math\n",
        "import matplotlib.pyplot as plt"
      ]
    },
    {
      "cell_type": "code",
      "source": [
        "#Utilities\n",
        "\n",
        "def argmaxall(gen):\n",
        "    maxv = -math.inf\n",
        "    maxvals = []\n",
        "    for (e, v) in gen:\n",
        "        if v > maxv:\n",
        "            maxvals, maxv = [e], v\n",
        "        elif v == maxv:\n",
        "            maxvals.append(e)\n",
        "    return maxvals\n",
        "\n",
        "def argmaxe(gen):\n",
        "    return random.choice(argmaxall(gen))\n",
        "\n",
        "def argmax(lst):\n",
        "    return argmaxe(enumerate(lst))\n",
        "\n",
        "def argmaxd(dct):\n",
        "   return argmaxe(dct.items())\n",
        "\n",
        "def flip(prob):\n",
        "    return random.random() < prob\n",
        "\n",
        "def select_from_dist(item_prob_dist):\n",
        "    ranreal = random.random()\n",
        "    for (it, prob) in item_prob_dist.items():\n",
        "        if ranreal < prob:\n",
        "            return it\n",
        "        else:\n",
        "            ranreal -= prob\n",
        "    raise RuntimeError(f\"{item_prob_dist} is not a probability distribution\")\n"
      ],
      "metadata": {
        "id": "TeRgbRJxxqVZ"
      },
      "execution_count": 4,
      "outputs": []
    },
    {
      "cell_type": "code",
      "source": [
        "#Display Class\n",
        "\n",
        "class Displayable:\n",
        "    max_display_level = 1\n",
        "\n",
        "    def display(self, level, *args, **nargs):\n",
        "        if level <= self.max_display_level:\n",
        "            print(*args, **nargs)\n"
      ],
      "metadata": {
        "id": "IPHeC480xqiU"
      },
      "execution_count": 5,
      "outputs": []
    },
    {
      "cell_type": "code",
      "source": [
        "class Plot_history:\n",
        "    def __init__(self, ag, env):\n",
        "        self.ag = ag\n",
        "        self.env = env\n",
        "        plt.ion()\n",
        "        plt.xlabel(\"Time\")\n",
        "        plt.ylabel(\"Value\")\n",
        "\n",
        "    def plot_env_hist(self):\n",
        "        num = len(env.stock_history)\n",
        "        plt.plot(range(num), env.price_history, label=\"Price\")\n",
        "        plt.plot(range(num), env.stock_history, label=\"In stock\")\n",
        "        plt.legend()\n",
        "\n",
        "    def plot_agent_hist(self):\n",
        "        num = len(ag.buy_history)\n",
        "        plt.bar(range(1, num + 1), ag.buy_history, label=\"Bought\")\n",
        "        plt.legend()"
      ],
      "metadata": {
        "id": "D5cXoxwdyqrg"
      },
      "execution_count": 6,
      "outputs": []
    },
    {
      "cell_type": "code",
      "source": [
        "#Agent Conntroller\n",
        "\n",
        "class Agent(Displayable):\n",
        "    def initial_action(self, percept):\n",
        "        return self.select_action(percept)\n",
        "\n",
        "    def select_action(self, percept):\n",
        "        raise NotImplementedError(\"select_action\")\n"
      ],
      "metadata": {
        "id": "7PjLsaQ6xqts"
      },
      "execution_count": 8,
      "outputs": []
    },
    {
      "cell_type": "code",
      "source": [
        "# Environment\n",
        "class Environment(Displayable):\n",
        "    def initial_percept(self):\n",
        "        raise NotImplementedError(\"initial_percept\")\n",
        "\n",
        "    def do(self, action):\n",
        "        raise NotImplementedError(\"Environment.do\")"
      ],
      "metadata": {
        "id": "08K6JLHhzH2a"
      },
      "execution_count": 9,
      "outputs": []
    },
    {
      "cell_type": "code",
      "source": [
        "#Simulate\n",
        "class Simulate(Displayable):\n",
        "    def __init__(self, agent, environment):\n",
        "        self.agent = agent\n",
        "        self.env = environment\n",
        "        self.percept = self.env.initial_percept()\n",
        "        self.percept_history = [self.percept]\n",
        "        self.action_history = []\n",
        "\n",
        "    def go(self, n):\n",
        "        for i in range(n):\n",
        "            action = self.agent.select_action(self.percept)\n",
        "            print(f\"i={i} action={action}\")\n",
        "            self.percept = self.env.do(action, i)\n",
        "            print(f\"      percept={self.percept}\")"
      ],
      "metadata": {
        "id": "rJiNU5uDzMfr"
      },
      "execution_count": 10,
      "outputs": []
    },
    {
      "cell_type": "code",
      "source": [
        "#TP Env\n",
        "\n",
        "class TP_env(Environment):\n",
        "    price_delta = [0, 0, 0, 21, 0, 20, 0, -64, 0, 0, 23, 0, 0, 0, -35,\n",
        "                   0, 76, 0, -41, 0, 0, 0, 21, 0, 5, 0, 5, 0, 0, 0, 5, 0,\n",
        "                   -15, 0, 5, 0, 5, 0, -115, 0, 115, 0, 5, 0, -15, 0, 5,\n",
        "                   0, 5, 0, 0, 0, 5, 0, -59, 0, 44, 0, 5, 0, 5, 0, 0, 0,\n",
        "                   5, 0, -65, 50, 0, 5, 0, 5, 0, 0, 0, 5, 0]\n",
        "    sd = 5\n",
        "\n",
        "    def __init__(self):\n",
        "        self.time = 0\n",
        "        self.stock = 20\n",
        "        self.stock_history = []\n",
        "        self.price_history = []\n",
        "\n",
        "    def initial_percept(self):\n",
        "        self.stock_history.append(self.stock)\n",
        "        self.price = round(234 + self.sd * random.gauss(0, 1))\n",
        "        self.price_history.append(self.price)\n",
        "        return {'price': self.price, 'instock': self.stock}\n",
        "\n",
        "    def do(self, action, time_unit):\n",
        "        used = select_from_dist({6: 0.1, 5: 0.1, 4: 0.1, 3: 0.3, 2: 0.2, 1: 0.2})\n",
        "        bought = action['buy']\n",
        "        self.stock = self.stock + bought - used\n",
        "        self.stock_history.append(self.stock)\n",
        "        self.time += 1\n",
        "        self.price = round(self.price + self.price_delta[self.time % len(self.price_delta)]\n",
        "                           + self.sd * random.gauss(0, 1))\n",
        "        self.price_history.append(self.price)\n",
        "        return {'price': self.price, 'instock': self.stock}\n",
        "\n"
      ],
      "metadata": {
        "id": "SwwKqmWpxq2p"
      },
      "execution_count": 12,
      "outputs": []
    },
    {
      "cell_type": "code",
      "source": [
        "class TP_agent(Agent):\n",
        "    def __init__(self):\n",
        "        self.spent = 0\n",
        "        percept = env.initial_percept()\n",
        "        self.ave = self.last_price = percept['price']\n",
        "        self.instock = percept['instock']\n",
        "        self.buy_history = []\n",
        "\n",
        "    def select_action(self, percept):\n",
        "        self.last_price = percept['price']\n",
        "        self.ave = self.ave + (self.last_price - self.ave) * 0.05\n",
        "        self.instock = percept['instock']\n",
        "\n",
        "        #conditions\n",
        "        if self.last_price < 0.8 * self.ave and self.instock < 10:\n",
        "            tobuy = 15 + 10\n",
        "        elif self.last_price < 0.8 * self.ave:\n",
        "            tobuy = 15\n",
        "        elif self.instock < 10:\n",
        "            tobuy = 10\n",
        "        else:\n",
        "            tobuy = 0\n",
        "\n",
        "        self.spent += tobuy * self.last_price\n",
        "        self.buy_history.append(tobuy)\n",
        "        return {'buy': tobuy}\n",
        "\n",
        "\n",
        "# the simulation\n",
        "env = TP_env()\n",
        "ag = TP_agent()\n",
        "sim = Simulate(ag, env)\n",
        "\n",
        "sim.go(20);\n"
      ],
      "metadata": {
        "colab": {
          "base_uri": "https://localhost:8080/"
        },
        "id": "P0HV0O0sznof",
        "outputId": "31914719-54f1-4697-d937-b7251fffbff7"
      },
      "execution_count": 29,
      "outputs": [
        {
          "output_type": "stream",
          "name": "stdout",
          "text": [
            "i=0 action={'buy': 0}\n",
            "      percept={'price': 230, 'instock': 19}\n",
            "i=1 action={'buy': 0}\n",
            "      percept={'price': 239, 'instock': 14}\n",
            "i=2 action={'buy': 0}\n",
            "      percept={'price': 264, 'instock': 13}\n",
            "i=3 action={'buy': 0}\n",
            "      percept={'price': 262, 'instock': 10}\n",
            "i=4 action={'buy': 0}\n",
            "      percept={'price': 281, 'instock': 7}\n",
            "i=5 action={'buy': 10}\n",
            "      percept={'price': 289, 'instock': 11}\n",
            "i=6 action={'buy': 0}\n",
            "      percept={'price': 226, 'instock': 9}\n",
            "i=7 action={'buy': 10}\n",
            "      percept={'price': 224, 'instock': 14}\n",
            "i=8 action={'buy': 0}\n",
            "      percept={'price': 224, 'instock': 10}\n",
            "i=9 action={'buy': 0}\n",
            "      percept={'price': 232, 'instock': 4}\n",
            "i=10 action={'buy': 10}\n",
            "      percept={'price': 233, 'instock': 10}\n",
            "i=11 action={'buy': 0}\n",
            "      percept={'price': 235, 'instock': 7}\n",
            "i=12 action={'buy': 10}\n",
            "      percept={'price': 226, 'instock': 16}\n",
            "i=13 action={'buy': 0}\n",
            "      percept={'price': 189, 'instock': 10}\n",
            "i=14 action={'buy': 0}\n",
            "      percept={'price': 186, 'instock': 9}\n",
            "i=15 action={'buy': 10}\n",
            "      percept={'price': 265, 'instock': 13}\n",
            "i=16 action={'buy': 0}\n",
            "      percept={'price': 258, 'instock': 11}\n",
            "i=17 action={'buy': 0}\n",
            "      percept={'price': 212, 'instock': 8}\n",
            "i=18 action={'buy': 10}\n",
            "      percept={'price': 216, 'instock': 16}\n",
            "i=19 action={'buy': 0}\n",
            "      percept={'price': 211, 'instock': 14}\n"
          ]
        }
      ]
    },
    {
      "cell_type": "code",
      "source": [
        "#the results\n",
        "pl = Plot_history(ag, env)\n",
        "pl.plot_env_hist()\n",
        "pl.plot_agent_hist()\n",
        "plt.show()"
      ],
      "metadata": {
        "colab": {
          "base_uri": "https://localhost:8080/",
          "height": 451
        },
        "id": "NYtsfp8K3aQp",
        "outputId": "aa19ae69-5599-4120-d4a5-b4996f2f7fd6"
      },
      "execution_count": 30,
      "outputs": [
        {
          "output_type": "display_data",
          "data": {
            "text/plain": [
              "<Figure size 640x480 with 1 Axes>"
            ],
            "image/png": "[encoded data removed]"
          },
          "metadata": {}
        }
      ]
    }
  ]
}